{
 "cells": [
  {
   "cell_type": "markdown",
   "id": "1539328d-dacb-4d3b-8d88-905125d2903f",
   "metadata": {},
   "source": [
    "GEREKLİ KÜTÜPHANELERİN YÜKLENMESİ"
   ]
  },
  {
   "cell_type": "code",
   "execution_count": null,
   "id": "936a0523-2ec0-4132-bbeb-7c26037c32d5",
   "metadata": {},
   "outputs": [],
   "source": [
    "import pandas as pd\n",
    "import numpy as np\n",
    "import matplotlib.pyplot as plt\n",
    "import seaborn as sbn\n",
    "from sklearn.linear_model import LinearRegression\n",
    "from sklearn.metrics import mean_absolute_error,mean_squared_error,r2_score"
   ]
  },
  {
   "cell_type": "markdown",
   "id": "a9b1a45d-5a10-45a7-887e-cdf67b57331c",
   "metadata": {},
   "source": [
    "VERİ OKUMA"
   ]
  },
  {
   "cell_type": "code",
   "execution_count": 22,
   "id": "47a471ad-b17d-40c4-8161-ad1ffb9bd23a",
   "metadata": {},
   "outputs": [],
   "source": [
    "df=pd.read_csv(\"Salary_Data.csv\")"
   ]
  },
  {
   "cell_type": "code",
   "execution_count": 23,
   "id": "d457f0d7-6e78-459a-b3fa-ddf7128ec68e",
   "metadata": {},
   "outputs": [
    {
     "data": {
      "text/html": [
       "<div>\n",
       "<style scoped>\n",
       "    .dataframe tbody tr th:only-of-type {\n",
       "        vertical-align: middle;\n",
       "    }\n",
       "\n",
       "    .dataframe tbody tr th {\n",
       "        vertical-align: top;\n",
       "    }\n",
       "\n",
       "    .dataframe thead th {\n",
       "        text-align: right;\n",
       "    }\n",
       "</style>\n",
       "<table border=\"1\" class=\"dataframe\">\n",
       "  <thead>\n",
       "    <tr style=\"text-align: right;\">\n",
       "      <th></th>\n",
       "      <th>YearsExperience</th>\n",
       "      <th>Salary</th>\n",
       "    </tr>\n",
       "  </thead>\n",
       "  <tbody>\n",
       "    <tr>\n",
       "      <th>0</th>\n",
       "      <td>1.1</td>\n",
       "      <td>39343</td>\n",
       "    </tr>\n",
       "    <tr>\n",
       "      <th>1</th>\n",
       "      <td>1.3</td>\n",
       "      <td>46205</td>\n",
       "    </tr>\n",
       "    <tr>\n",
       "      <th>2</th>\n",
       "      <td>1.5</td>\n",
       "      <td>37731</td>\n",
       "    </tr>\n",
       "    <tr>\n",
       "      <th>3</th>\n",
       "      <td>2.0</td>\n",
       "      <td>43525</td>\n",
       "    </tr>\n",
       "    <tr>\n",
       "      <th>4</th>\n",
       "      <td>2.2</td>\n",
       "      <td>39891</td>\n",
       "    </tr>\n",
       "  </tbody>\n",
       "</table>\n",
       "</div>"
      ],
      "text/plain": [
       "   YearsExperience  Salary\n",
       "0              1.1   39343\n",
       "1              1.3   46205\n",
       "2              1.5   37731\n",
       "3              2.0   43525\n",
       "4              2.2   39891"
      ]
     },
     "execution_count": 23,
     "metadata": {},
     "output_type": "execute_result"
    }
   ],
   "source": [
    "df.head()"
   ]
  },
  {
   "cell_type": "code",
   "execution_count": 41,
   "id": "83fefb64-5329-4b22-ac3b-732722f39c91",
   "metadata": {},
   "outputs": [
    {
     "data": {
      "text/html": [
       "<div>\n",
       "<style scoped>\n",
       "    .dataframe tbody tr th:only-of-type {\n",
       "        vertical-align: middle;\n",
       "    }\n",
       "\n",
       "    .dataframe tbody tr th {\n",
       "        vertical-align: top;\n",
       "    }\n",
       "\n",
       "    .dataframe thead th {\n",
       "        text-align: right;\n",
       "    }\n",
       "</style>\n",
       "<table border=\"1\" class=\"dataframe\">\n",
       "  <thead>\n",
       "    <tr style=\"text-align: right;\">\n",
       "      <th></th>\n",
       "      <th>YearsExperience</th>\n",
       "      <th>Salary</th>\n",
       "    </tr>\n",
       "  </thead>\n",
       "  <tbody>\n",
       "    <tr>\n",
       "      <th>YearsExperience</th>\n",
       "      <td>1.000000</td>\n",
       "      <td>0.978242</td>\n",
       "    </tr>\n",
       "    <tr>\n",
       "      <th>Salary</th>\n",
       "      <td>0.978242</td>\n",
       "      <td>1.000000</td>\n",
       "    </tr>\n",
       "  </tbody>\n",
       "</table>\n",
       "</div>"
      ],
      "text/plain": [
       "                 YearsExperience    Salary\n",
       "YearsExperience         1.000000  0.978242\n",
       "Salary                  0.978242  1.000000"
      ]
     },
     "execution_count": 41,
     "metadata": {},
     "output_type": "execute_result"
    }
   ],
   "source": [
    "df.corr()  # Korelasyonun 0.97 çıkması ikisinin arasında doğrusal bir ilişki olduğunu gösterir.(Lineer Regresyon)"
   ]
  },
  {
   "cell_type": "code",
   "execution_count": 25,
   "id": "7eae540c-e6bc-47bf-902b-ab5d3ccc18de",
   "metadata": {},
   "outputs": [
    {
     "data": {
      "text/html": [
       "<div>\n",
       "<style scoped>\n",
       "    .dataframe tbody tr th:only-of-type {\n",
       "        vertical-align: middle;\n",
       "    }\n",
       "\n",
       "    .dataframe tbody tr th {\n",
       "        vertical-align: top;\n",
       "    }\n",
       "\n",
       "    .dataframe thead th {\n",
       "        text-align: right;\n",
       "    }\n",
       "</style>\n",
       "<table border=\"1\" class=\"dataframe\">\n",
       "  <thead>\n",
       "    <tr style=\"text-align: right;\">\n",
       "      <th></th>\n",
       "      <th>YearsExperience</th>\n",
       "      <th>Salary</th>\n",
       "    </tr>\n",
       "  </thead>\n",
       "  <tbody>\n",
       "    <tr>\n",
       "      <th>count</th>\n",
       "      <td>30.000000</td>\n",
       "      <td>30.000000</td>\n",
       "    </tr>\n",
       "    <tr>\n",
       "      <th>mean</th>\n",
       "      <td>5.313333</td>\n",
       "      <td>76003.000000</td>\n",
       "    </tr>\n",
       "    <tr>\n",
       "      <th>std</th>\n",
       "      <td>2.837888</td>\n",
       "      <td>27414.429785</td>\n",
       "    </tr>\n",
       "    <tr>\n",
       "      <th>min</th>\n",
       "      <td>1.100000</td>\n",
       "      <td>37731.000000</td>\n",
       "    </tr>\n",
       "    <tr>\n",
       "      <th>25%</th>\n",
       "      <td>3.200000</td>\n",
       "      <td>56720.750000</td>\n",
       "    </tr>\n",
       "    <tr>\n",
       "      <th>50%</th>\n",
       "      <td>4.700000</td>\n",
       "      <td>65237.000000</td>\n",
       "    </tr>\n",
       "    <tr>\n",
       "      <th>75%</th>\n",
       "      <td>7.700000</td>\n",
       "      <td>100544.750000</td>\n",
       "    </tr>\n",
       "    <tr>\n",
       "      <th>max</th>\n",
       "      <td>10.500000</td>\n",
       "      <td>122391.000000</td>\n",
       "    </tr>\n",
       "  </tbody>\n",
       "</table>\n",
       "</div>"
      ],
      "text/plain": [
       "       YearsExperience         Salary\n",
       "count        30.000000      30.000000\n",
       "mean          5.313333   76003.000000\n",
       "std           2.837888   27414.429785\n",
       "min           1.100000   37731.000000\n",
       "25%           3.200000   56720.750000\n",
       "50%           4.700000   65237.000000\n",
       "75%           7.700000  100544.750000\n",
       "max          10.500000  122391.000000"
      ]
     },
     "execution_count": 25,
     "metadata": {},
     "output_type": "execute_result"
    }
   ],
   "source": [
    "df.describe()"
   ]
  },
  {
   "cell_type": "markdown",
   "id": "6d3a6172-dfa9-4a8e-893b-9f4190764473",
   "metadata": {},
   "source": [
    "BAĞIMLI VE BAĞIMSIZ DEĞİŞKENİ BELİRLEME"
   ]
  },
  {
   "cell_type": "code",
   "execution_count": 26,
   "id": "ef9e392b-c863-45b9-b486-97f77773a5a7",
   "metadata": {},
   "outputs": [],
   "source": [
    "x=df[[\"YearsExperience\"]]\n",
    "y=df[[\"Salary\"]]"
   ]
  },
  {
   "cell_type": "markdown",
   "id": "0718d80e-5955-4fd8-b8c9-e77b2b216cfb",
   "metadata": {},
   "source": [
    "MODELİ KURMA"
   ]
  },
  {
   "cell_type": "code",
   "execution_count": 27,
   "id": "baf2eca1-dd03-4e44-983d-21c09ea36216",
   "metadata": {},
   "outputs": [],
   "source": [
    "model=LinearRegression().fit(x,y)"
   ]
  },
  {
   "cell_type": "code",
   "execution_count": 28,
   "id": "c760f21b-6f77-499a-bd81-96b8a85f138d",
   "metadata": {},
   "outputs": [
    {
     "data": {
      "text/plain": [
       "25792.20019866871"
      ]
     },
     "execution_count": 28,
     "metadata": {},
     "output_type": "execute_result"
    }
   ],
   "source": [
    "model.intercept_[0] # sabit sayı"
   ]
  },
  {
   "cell_type": "code",
   "execution_count": 29,
   "id": "a0d3ff35-56b6-48f3-be96-dbba92278763",
   "metadata": {},
   "outputs": [
    {
     "data": {
      "text/plain": [
       "9449.962321455074"
      ]
     },
     "execution_count": 29,
     "metadata": {},
     "output_type": "execute_result"
    }
   ],
   "source": [
    "model.coef_[0][0] # Years Experience katsayısı"
   ]
  },
  {
   "cell_type": "code",
   "execution_count": 30,
   "id": "c0030360-7759-4abf-80ab-3ace1d11dccd",
   "metadata": {},
   "outputs": [],
   "source": [
    "# modelin denklemi: y= 25792.2 + YearsExperience*9449.96\n",
    "# y = b + w*x"
   ]
  },
  {
   "cell_type": "markdown",
   "id": "38b3593d-b60d-4c6a-b012-84b1ffa2a812",
   "metadata": {},
   "source": [
    "MODELİN GÖRSELLEŞTİRİLMESİ"
   ]
  },
  {
   "cell_type": "code",
   "execution_count": 46,
   "id": "20a38b71-8563-4afd-901e-c9e6345ab60a",
   "metadata": {},
   "outputs": [
    {
     "data": {
      "image/png": "[encoded data removed]",
      "text/plain": [
       "<Figure size 640x480 with 1 Axes>"
      ]
     },
     "metadata": {},
     "output_type": "display_data"
    }
   ],
   "source": [
    "sbn.regplot(x=x, y=y, scatter_kws={\"color\": 'blue', 's': 9}, ci=False, color='red')\n",
    "plt.title(\"Linear Regression: Experience vs Salary\")\n",
    "plt.xlabel(\"Years of Experience\")\n",
    "plt.ylabel(\"Salary\")\n",
    "plt.xlim(min(x[\"YearsExperience\"]) - 1, max(x[\"YearsExperience\"]) + 1)  # x sınırlarını otomatik ayarla\n",
    "plt.ylim(min(y[\"Salary\"]) - 5000, max(y[\"Salary\"]) + 5000)  # y sınırlarını otomatik ayarla\n",
    "plt.show()"
   ]
  },
  {
   "cell_type": "markdown",
   "id": "5a499605-c130-46f4-b5b2-81fc39e5cc36",
   "metadata": {},
   "source": [
    "PERFORMANS METRİĞİ HESAPLAMA"
   ]
  },
  {
   "cell_type": "code",
   "execution_count": 38,
   "id": "dc947f70-4994-4e53-8e6d-3572fa9cba2e",
   "metadata": {},
   "outputs": [
    {
     "data": {
      "text/plain": [
       "31270951.722280968"
      ]
     },
     "execution_count": 38,
     "metadata": {},
     "output_type": "execute_result"
    }
   ],
   "source": [
    "y_pred=model.predict(x)\n",
    "mean_squared_error(y,y_pred) # MSE"
   ]
  },
  {
   "cell_type": "code",
   "execution_count": 35,
   "id": "17cc1025-3e75-435e-9730-a540851ec917",
   "metadata": {},
   "outputs": [
    {
     "data": {
      "text/plain": [
       "4644.2012894435375"
      ]
     },
     "execution_count": 35,
     "metadata": {},
     "output_type": "execute_result"
    }
   ],
   "source": [
    "mean_absolute_error(y,y_pred) # MAE"
   ]
  },
  {
   "cell_type": "code",
   "execution_count": 36,
   "id": "d27111b7-8cf2-4e0a-9116-66c2d3ab6f62",
   "metadata": {},
   "outputs": [
    {
     "data": {
      "text/plain": [
       "5592.043608760662"
      ]
     },
     "execution_count": 36,
     "metadata": {},
     "output_type": "execute_result"
    }
   ],
   "source": [
    "np.sqrt(mean_squared_error(y,y_pred)) # RMSE"
   ]
  },
  {
   "cell_type": "code",
   "execution_count": 37,
   "id": "96dd4ab4-21d1-4a5a-b97e-09fa042c4029",
   "metadata": {},
   "outputs": [
    {
     "data": {
      "text/plain": [
       "0.9569566641435086"
      ]
     },
     "execution_count": 37,
     "metadata": {},
     "output_type": "execute_result"
    }
   ],
   "source": [
    "r2_score(y,y_pred)"
   ]
  },
  {
   "cell_type": "code",
   "execution_count": null,
   "id": "3d0abff6-296a-459c-bb1a-eb14dac414be",
   "metadata": {},
   "outputs": [],
   "source": []
  },
  {
   "cell_type": "code",
   "execution_count": null,
   "id": "85b66fe9-0993-49c7-8134-60af2fce3f18",
   "metadata": {},
   "outputs": [],
   "source": []
  }
 ],
 "metadata": {
  "kernelspec": {
   "display_name": "Python 3 (ipykernel)",
   "language": "python",
   "name": "python3"
  },
  "language_info": {
   "codemirror_mode": {
    "name": "ipython",
    "version": 3
   },
   "file_extension": ".py",
   "mimetype": "text/x-python",
   "name": "python",
   "nbconvert_exporter": "python",
   "pygments_lexer": "ipython3",
   "version": "3.12.4"
  }
 },
 "nbformat": 4,
 "nbformat_minor": 5
}
